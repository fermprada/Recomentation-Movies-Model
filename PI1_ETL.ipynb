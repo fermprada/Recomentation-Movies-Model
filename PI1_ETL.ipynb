{
  "cells": [
    {
      "cell_type": "markdown",
      "metadata": {
        "id": "trgfooO1OBVv"
      },
      "source": [
        "**ETL**"
      ]
    },
    {
      "cell_type": "code",
      "execution_count": 42,
      "metadata": {
        "id": "ncr_c6w8Hf3D"
      },
      "outputs": [],
      "source": [
        "import pandas as pd\n",
        "import numpy as np\n",
        "from sklearn.linear_model import LinearRegression\n",
        "from sklearn.metrics import r2_score\n",
        "from sklearn.metrics import mean_squared_error\n",
        "import matplotlib.pyplot as plt\n",
        "import seaborn as sns"
      ]
    },
    {
      "cell_type": "code",
      "execution_count": 43,
      "metadata": {},
      "outputs": [],
      "source": [
        "import csv"
      ]
    },
    {
      "cell_type": "code",
      "execution_count": 44,
      "metadata": {
        "colab": {
          "base_uri": "https://localhost:8080/",
          "height": 785
        },
        "id": "hEimIsirIFXK",
        "outputId": "41569bc0-2053-4802-9350-20af2d1c5583"
      },
      "outputs": [
        {
          "name": "stderr",
          "output_type": "stream",
          "text": [
            "C:\\Users\\facun\\AppData\\Local\\Temp\\ipykernel_4508\\133786677.py:1: DtypeWarning: Columns (10) have mixed types. Specify dtype option on import or set low_memory=False.\n",
            "  data = pd.read_csv(\"movies_dataset.csv\")\n"
          ]
        }
      ],
      "source": [
        "data = pd.read_csv(\"movies_dataset.csv\")"
      ]
    },
    {
      "cell_type": "markdown",
      "metadata": {
        "id": "4_dF_rWvIwUm"
      },
      "source": [
        "**PRIMERA PARTE: DASANIDAR COLUMNAS**"
      ]
    },
    {
      "cell_type": "markdown",
      "metadata": {
        "id": "npfK9TBEI85d"
      },
      "source": [
        "Comenzamos con la columna `belongs_to_collection` (Diccionario), en cada registro en caso de no ser nulo, se reemplazará solo con el nombre"
      ]
    },
    {
      "cell_type": "code",
      "execution_count": 45,
      "metadata": {
        "colab": {
          "base_uri": "https://localhost:8080/"
        },
        "id": "o64RkiKXITWH",
        "outputId": "7988038c-0d81-4b6e-e01c-2f192c43a27c"
      },
      "outputs": [
        {
          "name": "stderr",
          "output_type": "stream",
          "text": [
            "C:\\Users\\facun\\AppData\\Local\\Temp\\ipykernel_4508\\2878617107.py:4: SettingWithCopyWarning: \n",
            "A value is trying to be set on a copy of a slice from a DataFrame\n",
            "\n",
            "See the caveats in the documentation: https://pandas.pydata.org/pandas-docs/stable/user_guide/indexing.html#returning-a-view-versus-a-copy\n",
            "  data[\"belongs_to_collection\"][i] = eval(data[\"belongs_to_collection\"][i])[\"name\"]\n"
          ]
        }
      ],
      "source": [
        "for i in range(len(data)):\n",
        "    try:\n",
        "        if isinstance(eval(data[\"belongs_to_collection\"][i]), dict):\n",
        "            data[\"belongs_to_collection\"][i] = eval(data[\"belongs_to_collection\"][i])[\"name\"]\n",
        "    except:\n",
        "        pass"
      ]
    },
    {
      "cell_type": "markdown",
      "metadata": {
        "id": "YzRdpOQaQLEE"
      },
      "source": [
        "Para `genres` se añadirán 3 columnas más al DataFrame que serán `g1`, `g2`, `g3` y se agregaran los generos a cada columna respectivamente"
      ]
    },
    {
      "cell_type": "code",
      "execution_count": 46,
      "metadata": {
        "colab": {
          "base_uri": "https://localhost:8080/",
          "height": 36
        },
        "id": "G_pRWui3MPfg",
        "outputId": "4b8a5ab2-272e-40b3-a9f2-ec916d9debaa"
      },
      "outputs": [
        {
          "data": {
            "text/plain": [
              "'Romance'"
            ]
          },
          "execution_count": 46,
          "metadata": {},
          "output_type": "execute_result"
        }
      ],
      "source": [
        "pd.json_normalize(eval(data[\"genres\"][2]))[\"name\"][0]"
      ]
    },
    {
      "cell_type": "markdown",
      "metadata": {
        "id": "J2V4wsLvSyOL"
      },
      "source": [
        "Se desanida la columna genres (Diccionario)"
      ]
    },
    {
      "cell_type": "code",
      "execution_count": 47,
      "metadata": {
        "colab": {
          "base_uri": "https://localhost:8080/"
        },
        "id": "h-mOuaMzSX4T",
        "outputId": "d93bbbe7-f5ca-404a-d9de-ae23c142004f"
      },
      "outputs": [
        {
          "name": "stderr",
          "output_type": "stream",
          "text": [
            "C:\\Users\\facun\\AppData\\Local\\Temp\\ipykernel_4508\\2090772770.py:11: SettingWithCopyWarning: \n",
            "A value is trying to be set on a copy of a slice from a DataFrame\n",
            "\n",
            "See the caveats in the documentation: https://pandas.pydata.org/pandas-docs/stable/user_guide/indexing.html#returning-a-view-versus-a-copy\n",
            "  data[f'g{j+1}'][i] = df['name'][j]\n"
          ]
        }
      ],
      "source": [
        "data['g1'] = np.nan\n",
        "data['g2'] = np.nan\n",
        "data['g3'] = np.nan\n",
        "\n",
        "\n",
        "for i in range(len(data)):\n",
        "    try:\n",
        "      df = pd.json_normalize(eval(data['genres'][i]))\n",
        "\n",
        "      for j in range(len(df)):\n",
        "        data[f'g{j+1}'][i] = df['name'][j]\n",
        "    except:\n",
        "        pass"
      ]
    },
    {
      "cell_type": "markdown",
      "metadata": {
        "id": "SGfECgdyAEdV"
      },
      "source": [
        "Desnidamos la columna data `production_companies` (Lista)"
      ]
    },
    {
      "cell_type": "code",
      "execution_count": 48,
      "metadata": {
        "colab": {
          "base_uri": "https://localhost:8080/"
        },
        "id": "vR22VN8wTZmp",
        "outputId": "092b27bc-6fe6-4a0a-ef8a-ef7cf69dd87a"
      },
      "outputs": [
        {
          "name": "stderr",
          "output_type": "stream",
          "text": [
            "C:\\Users\\facun\\AppData\\Local\\Temp\\ipykernel_4508\\3212550824.py:9: SettingWithCopyWarning: \n",
            "A value is trying to be set on a copy of a slice from a DataFrame\n",
            "\n",
            "See the caveats in the documentation: https://pandas.pydata.org/pandas-docs/stable/user_guide/indexing.html#returning-a-view-versus-a-copy\n",
            "  data[f'produc_com{j+1}'][i] = df['name'][j]\n",
            "C:\\Users\\facun\\AppData\\Local\\Temp\\ipykernel_4508\\3212550824.py:9: SettingWithCopyWarning: \n",
            "A value is trying to be set on a copy of a slice from a DataFrame\n",
            "\n",
            "See the caveats in the documentation: https://pandas.pydata.org/pandas-docs/stable/user_guide/indexing.html#returning-a-view-versus-a-copy\n",
            "  data[f'produc_com{j+1}'][i] = df['name'][j]\n"
          ]
        }
      ],
      "source": [
        "data['produc_com1'] = np.nan\n",
        "data['produc_com2'] = np.nan\n",
        "\n",
        "for i in range(len(data)):\n",
        "    try:\n",
        "        df = pd.json_normalize(eval(data['production_companies'][i]))\n",
        "\n",
        "        for j in range(len(df)):\n",
        "            data[f'produc_com{j+1}'][i] = df['name'][j]\n",
        "    except:\n",
        "        continue"
      ]
    },
    {
      "cell_type": "markdown",
      "metadata": {
        "id": "9mZZ-HNOIdL2"
      },
      "source": [
        "Se desanidará la columna `production_countries` (Lista)"
      ]
    },
    {
      "cell_type": "code",
      "execution_count": 49,
      "metadata": {
        "colab": {
          "base_uri": "https://localhost:8080/",
          "height": 36
        },
        "id": "m_ytE2AIFy-P",
        "outputId": "218907f7-79ca-4cb3-ed2b-18dbd597efb8"
      },
      "outputs": [
        {
          "data": {
            "text/plain": [
              "\"[{'iso_3166_1': 'IT', 'name': 'Italy'}]\""
            ]
          },
          "execution_count": 49,
          "metadata": {},
          "output_type": "execute_result"
        }
      ],
      "source": [
        "data['production_countries'][34556]"
      ]
    },
    {
      "cell_type": "code",
      "execution_count": 50,
      "metadata": {
        "colab": {
          "base_uri": "https://localhost:8080/"
        },
        "id": "iecVkAaTHKsj",
        "outputId": "5b867389-c557-4a67-9425-227fd3e1d702"
      },
      "outputs": [
        {
          "name": "stderr",
          "output_type": "stream",
          "text": [
            "C:\\Users\\facun\\AppData\\Local\\Temp\\ipykernel_4508\\2701637996.py:8: SettingWithCopyWarning: \n",
            "A value is trying to be set on a copy of a slice from a DataFrame\n",
            "\n",
            "See the caveats in the documentation: https://pandas.pydata.org/pandas-docs/stable/user_guide/indexing.html#returning-a-view-versus-a-copy\n",
            "  data['country'][i] = df['name'][j]\n"
          ]
        }
      ],
      "source": [
        "data['country'] = np.nan\n",
        "\n",
        "for i in range(len(data)):\n",
        "    try:\n",
        "        df = pd.json_normalize(eval(data['production_countries'][i]))\n",
        "\n",
        "        for j in range(len(df)):\n",
        "            data['country'][i] = df['name'][j]\n",
        "    except:\n",
        "        continue"
      ]
    },
    {
      "cell_type": "markdown",
      "metadata": {
        "id": "aaNS3LTIIpIS"
      },
      "source": [
        "Se desanidará la columna `spoken_languages`"
      ]
    },
    {
      "cell_type": "code",
      "execution_count": 51,
      "metadata": {
        "colab": {
          "base_uri": "https://localhost:8080/"
        },
        "id": "1aVORIovIKqc",
        "outputId": "29ea1ca3-c22a-481c-fdbe-23fed2bf951b"
      },
      "outputs": [
        {
          "name": "stderr",
          "output_type": "stream",
          "text": [
            "C:\\Users\\facun\\AppData\\Local\\Temp\\ipykernel_4508\\640928165.py:8: SettingWithCopyWarning: \n",
            "A value is trying to be set on a copy of a slice from a DataFrame\n",
            "\n",
            "See the caveats in the documentation: https://pandas.pydata.org/pandas-docs/stable/user_guide/indexing.html#returning-a-view-versus-a-copy\n",
            "  data['language'][i] = df['name'][j]\n"
          ]
        }
      ],
      "source": [
        "data['language'] = np.nan\n",
        "\n",
        "for i in range(len(data)):\n",
        "    try:\n",
        "        df = pd.json_normalize(eval(data['spoken_languages'][i]))\n",
        "\n",
        "        for j in range(len(df)):\n",
        "            data['language'][i] = df['name'][j]\n",
        "    except:\n",
        "        continue"
      ]
    },
    {
      "cell_type": "code",
      "execution_count": 52,
      "metadata": {
        "id": "4x0WXGfkI-ZN"
      },
      "outputs": [],
      "source": [
        "columnas = ['genres', 'production_companies',\n",
        "       'production_countries','spoken_languages']\n",
        "\n",
        "data = data.drop(columns=columnas)"
      ]
    },
    {
      "cell_type": "code",
      "execution_count": 53,
      "metadata": {
        "colab": {
          "base_uri": "https://localhost:8080/",
          "height": 973
        },
        "id": "CGq-Xof7JJZk",
        "outputId": "db2eeacb-4d46-4080-ea3a-4f9f9c00b9c4"
      },
      "outputs": [
        {
          "data": {
            "text/html": [
              "<div>\n",
              "<style scoped>\n",
              "    .dataframe tbody tr th:only-of-type {\n",
              "        vertical-align: middle;\n",
              "    }\n",
              "\n",
              "    .dataframe tbody tr th {\n",
              "        vertical-align: top;\n",
              "    }\n",
              "\n",
              "    .dataframe thead th {\n",
              "        text-align: right;\n",
              "    }\n",
              "</style>\n",
              "<table border=\"1\" class=\"dataframe\">\n",
              "  <thead>\n",
              "    <tr style=\"text-align: right;\">\n",
              "      <th></th>\n",
              "      <th>adult</th>\n",
              "      <th>belongs_to_collection</th>\n",
              "      <th>budget</th>\n",
              "      <th>homepage</th>\n",
              "      <th>id</th>\n",
              "      <th>imdb_id</th>\n",
              "      <th>original_language</th>\n",
              "      <th>original_title</th>\n",
              "      <th>overview</th>\n",
              "      <th>popularity</th>\n",
              "      <th>poster_path</th>\n",
              "      <th>release_date</th>\n",
              "      <th>revenue</th>\n",
              "      <th>runtime</th>\n",
              "      <th>status</th>\n",
              "      <th>tagline</th>\n",
              "      <th>title</th>\n",
              "      <th>video</th>\n",
              "      <th>vote_average</th>\n",
              "      <th>vote_count</th>\n",
              "      <th>g1</th>\n",
              "      <th>g2</th>\n",
              "      <th>g3</th>\n",
              "      <th>produc_com1</th>\n",
              "      <th>produc_com2</th>\n",
              "      <th>country</th>\n",
              "      <th>language</th>\n",
              "    </tr>\n",
              "  </thead>\n",
              "  <tbody>\n",
              "    <tr>\n",
              "      <th>0</th>\n",
              "      <td>False</td>\n",
              "      <td>Toy Story Collection</td>\n",
              "      <td>30000000</td>\n",
              "      <td>http://toystory.disney.com/toy-story</td>\n",
              "      <td>862</td>\n",
              "      <td>tt0114709</td>\n",
              "      <td>en</td>\n",
              "      <td>Toy Story</td>\n",
              "      <td>Led by Woody, Andy's toys live happily in his ...</td>\n",
              "      <td>21.946943</td>\n",
              "      <td>/rhIRbceoE9lR4veEXuwCC2wARtG.jpg</td>\n",
              "      <td>1995-10-30</td>\n",
              "      <td>373554033.0</td>\n",
              "      <td>81.0</td>\n",
              "      <td>Released</td>\n",
              "      <td>NaN</td>\n",
              "      <td>Toy Story</td>\n",
              "      <td>False</td>\n",
              "      <td>7.7</td>\n",
              "      <td>5415.0</td>\n",
              "      <td>Animation</td>\n",
              "      <td>Comedy</td>\n",
              "      <td>Family</td>\n",
              "      <td>Pixar Animation Studios</td>\n",
              "      <td>NaN</td>\n",
              "      <td>United States of America</td>\n",
              "      <td>English</td>\n",
              "    </tr>\n",
              "    <tr>\n",
              "      <th>1</th>\n",
              "      <td>False</td>\n",
              "      <td>NaN</td>\n",
              "      <td>65000000</td>\n",
              "      <td>NaN</td>\n",
              "      <td>8844</td>\n",
              "      <td>tt0113497</td>\n",
              "      <td>en</td>\n",
              "      <td>Jumanji</td>\n",
              "      <td>When siblings Judy and Peter discover an encha...</td>\n",
              "      <td>17.015539</td>\n",
              "      <td>/vzmL6fP7aPKNKPRTFnZmiUfciyV.jpg</td>\n",
              "      <td>1995-12-15</td>\n",
              "      <td>262797249.0</td>\n",
              "      <td>104.0</td>\n",
              "      <td>Released</td>\n",
              "      <td>Roll the dice and unleash the excitement!</td>\n",
              "      <td>Jumanji</td>\n",
              "      <td>False</td>\n",
              "      <td>6.9</td>\n",
              "      <td>2413.0</td>\n",
              "      <td>Adventure</td>\n",
              "      <td>Fantasy</td>\n",
              "      <td>Family</td>\n",
              "      <td>TriStar Pictures</td>\n",
              "      <td>Teitler Film</td>\n",
              "      <td>United States of America</td>\n",
              "      <td>Français</td>\n",
              "    </tr>\n",
              "    <tr>\n",
              "      <th>2</th>\n",
              "      <td>False</td>\n",
              "      <td>Grumpy Old Men Collection</td>\n",
              "      <td>0</td>\n",
              "      <td>NaN</td>\n",
              "      <td>15602</td>\n",
              "      <td>tt0113228</td>\n",
              "      <td>en</td>\n",
              "      <td>Grumpier Old Men</td>\n",
              "      <td>A family wedding reignites the ancient feud be...</td>\n",
              "      <td>11.7129</td>\n",
              "      <td>/6ksm1sjKMFLbO7UY2i6G1ju9SML.jpg</td>\n",
              "      <td>1995-12-22</td>\n",
              "      <td>0.0</td>\n",
              "      <td>101.0</td>\n",
              "      <td>Released</td>\n",
              "      <td>Still Yelling. Still Fighting. Still Ready for...</td>\n",
              "      <td>Grumpier Old Men</td>\n",
              "      <td>False</td>\n",
              "      <td>6.5</td>\n",
              "      <td>92.0</td>\n",
              "      <td>Romance</td>\n",
              "      <td>Comedy</td>\n",
              "      <td>NaN</td>\n",
              "      <td>Warner Bros.</td>\n",
              "      <td>Lancaster Gate</td>\n",
              "      <td>United States of America</td>\n",
              "      <td>English</td>\n",
              "    </tr>\n",
              "    <tr>\n",
              "      <th>3</th>\n",
              "      <td>False</td>\n",
              "      <td>NaN</td>\n",
              "      <td>16000000</td>\n",
              "      <td>NaN</td>\n",
              "      <td>31357</td>\n",
              "      <td>tt0114885</td>\n",
              "      <td>en</td>\n",
              "      <td>Waiting to Exhale</td>\n",
              "      <td>Cheated on, mistreated and stepped on, the wom...</td>\n",
              "      <td>3.859495</td>\n",
              "      <td>/16XOMpEaLWkrcPqSQqhTmeJuqQl.jpg</td>\n",
              "      <td>1995-12-22</td>\n",
              "      <td>81452156.0</td>\n",
              "      <td>127.0</td>\n",
              "      <td>Released</td>\n",
              "      <td>Friends are the people who let you be yourself...</td>\n",
              "      <td>Waiting to Exhale</td>\n",
              "      <td>False</td>\n",
              "      <td>6.1</td>\n",
              "      <td>34.0</td>\n",
              "      <td>Comedy</td>\n",
              "      <td>Drama</td>\n",
              "      <td>Romance</td>\n",
              "      <td>Twentieth Century Fox Film Corporation</td>\n",
              "      <td>NaN</td>\n",
              "      <td>United States of America</td>\n",
              "      <td>English</td>\n",
              "    </tr>\n",
              "    <tr>\n",
              "      <th>4</th>\n",
              "      <td>False</td>\n",
              "      <td>Father of the Bride Collection</td>\n",
              "      <td>0</td>\n",
              "      <td>NaN</td>\n",
              "      <td>11862</td>\n",
              "      <td>tt0113041</td>\n",
              "      <td>en</td>\n",
              "      <td>Father of the Bride Part II</td>\n",
              "      <td>Just when George Banks has recovered from his ...</td>\n",
              "      <td>8.387519</td>\n",
              "      <td>/e64sOI48hQXyru7naBFyssKFxVd.jpg</td>\n",
              "      <td>1995-02-10</td>\n",
              "      <td>76578911.0</td>\n",
              "      <td>106.0</td>\n",
              "      <td>Released</td>\n",
              "      <td>Just When His World Is Back To Normal... He's ...</td>\n",
              "      <td>Father of the Bride Part II</td>\n",
              "      <td>False</td>\n",
              "      <td>5.7</td>\n",
              "      <td>173.0</td>\n",
              "      <td>Comedy</td>\n",
              "      <td>NaN</td>\n",
              "      <td>NaN</td>\n",
              "      <td>Sandollar Productions</td>\n",
              "      <td>Touchstone Pictures</td>\n",
              "      <td>United States of America</td>\n",
              "      <td>English</td>\n",
              "    </tr>\n",
              "    <tr>\n",
              "      <th>...</th>\n",
              "      <td>...</td>\n",
              "      <td>...</td>\n",
              "      <td>...</td>\n",
              "      <td>...</td>\n",
              "      <td>...</td>\n",
              "      <td>...</td>\n",
              "      <td>...</td>\n",
              "      <td>...</td>\n",
              "      <td>...</td>\n",
              "      <td>...</td>\n",
              "      <td>...</td>\n",
              "      <td>...</td>\n",
              "      <td>...</td>\n",
              "      <td>...</td>\n",
              "      <td>...</td>\n",
              "      <td>...</td>\n",
              "      <td>...</td>\n",
              "      <td>...</td>\n",
              "      <td>...</td>\n",
              "      <td>...</td>\n",
              "      <td>...</td>\n",
              "      <td>...</td>\n",
              "      <td>...</td>\n",
              "      <td>...</td>\n",
              "      <td>...</td>\n",
              "      <td>...</td>\n",
              "      <td>...</td>\n",
              "    </tr>\n",
              "    <tr>\n",
              "      <th>45461</th>\n",
              "      <td>False</td>\n",
              "      <td>NaN</td>\n",
              "      <td>0</td>\n",
              "      <td>http://www.imdb.com/title/tt6209470/</td>\n",
              "      <td>439050</td>\n",
              "      <td>tt6209470</td>\n",
              "      <td>fa</td>\n",
              "      <td>رگ خواب</td>\n",
              "      <td>Rising and falling between a man and woman.</td>\n",
              "      <td>0.072051</td>\n",
              "      <td>/jldsYflnId4tTWPx8es3uzsB1I8.jpg</td>\n",
              "      <td>NaN</td>\n",
              "      <td>0.0</td>\n",
              "      <td>90.0</td>\n",
              "      <td>Released</td>\n",
              "      <td>Rising and falling between a man and woman</td>\n",
              "      <td>Subdue</td>\n",
              "      <td>False</td>\n",
              "      <td>4.0</td>\n",
              "      <td>1.0</td>\n",
              "      <td>Drama</td>\n",
              "      <td>Family</td>\n",
              "      <td>NaN</td>\n",
              "      <td>NaN</td>\n",
              "      <td>NaN</td>\n",
              "      <td>Iran</td>\n",
              "      <td>فارسی</td>\n",
              "    </tr>\n",
              "    <tr>\n",
              "      <th>45462</th>\n",
              "      <td>False</td>\n",
              "      <td>NaN</td>\n",
              "      <td>0</td>\n",
              "      <td>NaN</td>\n",
              "      <td>111109</td>\n",
              "      <td>tt2028550</td>\n",
              "      <td>tl</td>\n",
              "      <td>Siglo ng Pagluluwal</td>\n",
              "      <td>An artist struggles to finish his work while a...</td>\n",
              "      <td>0.178241</td>\n",
              "      <td>/xZkmxsNmYXJbKVsTRLLx3pqGHx7.jpg</td>\n",
              "      <td>2011-11-17</td>\n",
              "      <td>0.0</td>\n",
              "      <td>360.0</td>\n",
              "      <td>Released</td>\n",
              "      <td>NaN</td>\n",
              "      <td>Century of Birthing</td>\n",
              "      <td>False</td>\n",
              "      <td>9.0</td>\n",
              "      <td>3.0</td>\n",
              "      <td>Drama</td>\n",
              "      <td>NaN</td>\n",
              "      <td>NaN</td>\n",
              "      <td>Sine Olivia</td>\n",
              "      <td>NaN</td>\n",
              "      <td>Philippines</td>\n",
              "      <td></td>\n",
              "    </tr>\n",
              "    <tr>\n",
              "      <th>45463</th>\n",
              "      <td>False</td>\n",
              "      <td>NaN</td>\n",
              "      <td>0</td>\n",
              "      <td>NaN</td>\n",
              "      <td>67758</td>\n",
              "      <td>tt0303758</td>\n",
              "      <td>en</td>\n",
              "      <td>Betrayal</td>\n",
              "      <td>When one of her hits goes wrong, a professiona...</td>\n",
              "      <td>0.903007</td>\n",
              "      <td>/d5bX92nDsISNhu3ZT69uHwmfCGw.jpg</td>\n",
              "      <td>2003-08-01</td>\n",
              "      <td>0.0</td>\n",
              "      <td>90.0</td>\n",
              "      <td>Released</td>\n",
              "      <td>A deadly game of wits.</td>\n",
              "      <td>Betrayal</td>\n",
              "      <td>False</td>\n",
              "      <td>3.8</td>\n",
              "      <td>6.0</td>\n",
              "      <td>Action</td>\n",
              "      <td>Drama</td>\n",
              "      <td>Thriller</td>\n",
              "      <td>American World Pictures</td>\n",
              "      <td>NaN</td>\n",
              "      <td>United States of America</td>\n",
              "      <td>English</td>\n",
              "    </tr>\n",
              "    <tr>\n",
              "      <th>45464</th>\n",
              "      <td>False</td>\n",
              "      <td>NaN</td>\n",
              "      <td>0</td>\n",
              "      <td>NaN</td>\n",
              "      <td>227506</td>\n",
              "      <td>tt0008536</td>\n",
              "      <td>en</td>\n",
              "      <td>Satana likuyushchiy</td>\n",
              "      <td>In a small town live two brothers, one a minis...</td>\n",
              "      <td>0.003503</td>\n",
              "      <td>/aorBPO7ak8e8iJKT5OcqYxU3jlK.jpg</td>\n",
              "      <td>1917-10-21</td>\n",
              "      <td>0.0</td>\n",
              "      <td>87.0</td>\n",
              "      <td>Released</td>\n",
              "      <td>NaN</td>\n",
              "      <td>Satan Triumphant</td>\n",
              "      <td>False</td>\n",
              "      <td>0.0</td>\n",
              "      <td>0.0</td>\n",
              "      <td>NaN</td>\n",
              "      <td>NaN</td>\n",
              "      <td>NaN</td>\n",
              "      <td>Yermoliev</td>\n",
              "      <td>NaN</td>\n",
              "      <td>Russia</td>\n",
              "      <td>NaN</td>\n",
              "    </tr>\n",
              "    <tr>\n",
              "      <th>45465</th>\n",
              "      <td>False</td>\n",
              "      <td>NaN</td>\n",
              "      <td>0</td>\n",
              "      <td>NaN</td>\n",
              "      <td>461257</td>\n",
              "      <td>tt6980792</td>\n",
              "      <td>en</td>\n",
              "      <td>Queerama</td>\n",
              "      <td>50 years after decriminalisation of homosexual...</td>\n",
              "      <td>0.163015</td>\n",
              "      <td>/s5UkZt6NTsrS7ZF0Rh8nzupRlIU.jpg</td>\n",
              "      <td>2017-06-09</td>\n",
              "      <td>0.0</td>\n",
              "      <td>75.0</td>\n",
              "      <td>Released</td>\n",
              "      <td>NaN</td>\n",
              "      <td>Queerama</td>\n",
              "      <td>False</td>\n",
              "      <td>0.0</td>\n",
              "      <td>0.0</td>\n",
              "      <td>NaN</td>\n",
              "      <td>NaN</td>\n",
              "      <td>NaN</td>\n",
              "      <td>NaN</td>\n",
              "      <td>NaN</td>\n",
              "      <td>United Kingdom</td>\n",
              "      <td>English</td>\n",
              "    </tr>\n",
              "  </tbody>\n",
              "</table>\n",
              "<p>45466 rows × 27 columns</p>\n",
              "</div>"
            ],
            "text/plain": [
              "       adult           belongs_to_collection    budget  \\\n",
              "0      False            Toy Story Collection  30000000   \n",
              "1      False                             NaN  65000000   \n",
              "2      False       Grumpy Old Men Collection         0   \n",
              "3      False                             NaN  16000000   \n",
              "4      False  Father of the Bride Collection         0   \n",
              "...      ...                             ...       ...   \n",
              "45461  False                             NaN         0   \n",
              "45462  False                             NaN         0   \n",
              "45463  False                             NaN         0   \n",
              "45464  False                             NaN         0   \n",
              "45465  False                             NaN         0   \n",
              "\n",
              "                                   homepage      id    imdb_id  \\\n",
              "0      http://toystory.disney.com/toy-story     862  tt0114709   \n",
              "1                                       NaN    8844  tt0113497   \n",
              "2                                       NaN   15602  tt0113228   \n",
              "3                                       NaN   31357  tt0114885   \n",
              "4                                       NaN   11862  tt0113041   \n",
              "...                                     ...     ...        ...   \n",
              "45461  http://www.imdb.com/title/tt6209470/  439050  tt6209470   \n",
              "45462                                   NaN  111109  tt2028550   \n",
              "45463                                   NaN   67758  tt0303758   \n",
              "45464                                   NaN  227506  tt0008536   \n",
              "45465                                   NaN  461257  tt6980792   \n",
              "\n",
              "      original_language               original_title  \\\n",
              "0                    en                    Toy Story   \n",
              "1                    en                      Jumanji   \n",
              "2                    en             Grumpier Old Men   \n",
              "3                    en            Waiting to Exhale   \n",
              "4                    en  Father of the Bride Part II   \n",
              "...                 ...                          ...   \n",
              "45461                fa                      رگ خواب   \n",
              "45462                tl          Siglo ng Pagluluwal   \n",
              "45463                en                     Betrayal   \n",
              "45464                en          Satana likuyushchiy   \n",
              "45465                en                     Queerama   \n",
              "\n",
              "                                                overview popularity  \\\n",
              "0      Led by Woody, Andy's toys live happily in his ...  21.946943   \n",
              "1      When siblings Judy and Peter discover an encha...  17.015539   \n",
              "2      A family wedding reignites the ancient feud be...    11.7129   \n",
              "3      Cheated on, mistreated and stepped on, the wom...   3.859495   \n",
              "4      Just when George Banks has recovered from his ...   8.387519   \n",
              "...                                                  ...        ...   \n",
              "45461        Rising and falling between a man and woman.   0.072051   \n",
              "45462  An artist struggles to finish his work while a...   0.178241   \n",
              "45463  When one of her hits goes wrong, a professiona...   0.903007   \n",
              "45464  In a small town live two brothers, one a minis...   0.003503   \n",
              "45465  50 years after decriminalisation of homosexual...   0.163015   \n",
              "\n",
              "                            poster_path release_date      revenue  runtime  \\\n",
              "0      /rhIRbceoE9lR4veEXuwCC2wARtG.jpg   1995-10-30  373554033.0     81.0   \n",
              "1      /vzmL6fP7aPKNKPRTFnZmiUfciyV.jpg   1995-12-15  262797249.0    104.0   \n",
              "2      /6ksm1sjKMFLbO7UY2i6G1ju9SML.jpg   1995-12-22          0.0    101.0   \n",
              "3      /16XOMpEaLWkrcPqSQqhTmeJuqQl.jpg   1995-12-22   81452156.0    127.0   \n",
              "4      /e64sOI48hQXyru7naBFyssKFxVd.jpg   1995-02-10   76578911.0    106.0   \n",
              "...                                 ...          ...          ...      ...   \n",
              "45461  /jldsYflnId4tTWPx8es3uzsB1I8.jpg          NaN          0.0     90.0   \n",
              "45462  /xZkmxsNmYXJbKVsTRLLx3pqGHx7.jpg   2011-11-17          0.0    360.0   \n",
              "45463  /d5bX92nDsISNhu3ZT69uHwmfCGw.jpg   2003-08-01          0.0     90.0   \n",
              "45464  /aorBPO7ak8e8iJKT5OcqYxU3jlK.jpg   1917-10-21          0.0     87.0   \n",
              "45465  /s5UkZt6NTsrS7ZF0Rh8nzupRlIU.jpg   2017-06-09          0.0     75.0   \n",
              "\n",
              "         status                                            tagline  \\\n",
              "0      Released                                                NaN   \n",
              "1      Released          Roll the dice and unleash the excitement!   \n",
              "2      Released  Still Yelling. Still Fighting. Still Ready for...   \n",
              "3      Released  Friends are the people who let you be yourself...   \n",
              "4      Released  Just When His World Is Back To Normal... He's ...   \n",
              "...         ...                                                ...   \n",
              "45461  Released         Rising and falling between a man and woman   \n",
              "45462  Released                                                NaN   \n",
              "45463  Released                             A deadly game of wits.   \n",
              "45464  Released                                                NaN   \n",
              "45465  Released                                                NaN   \n",
              "\n",
              "                             title  video  vote_average  vote_count  \\\n",
              "0                        Toy Story  False           7.7      5415.0   \n",
              "1                          Jumanji  False           6.9      2413.0   \n",
              "2                 Grumpier Old Men  False           6.5        92.0   \n",
              "3                Waiting to Exhale  False           6.1        34.0   \n",
              "4      Father of the Bride Part II  False           5.7       173.0   \n",
              "...                            ...    ...           ...         ...   \n",
              "45461                       Subdue  False           4.0         1.0   \n",
              "45462          Century of Birthing  False           9.0         3.0   \n",
              "45463                     Betrayal  False           3.8         6.0   \n",
              "45464             Satan Triumphant  False           0.0         0.0   \n",
              "45465                     Queerama  False           0.0         0.0   \n",
              "\n",
              "              g1       g2        g3                             produc_com1  \\\n",
              "0      Animation   Comedy    Family                 Pixar Animation Studios   \n",
              "1      Adventure  Fantasy    Family                        TriStar Pictures   \n",
              "2        Romance   Comedy       NaN                            Warner Bros.   \n",
              "3         Comedy    Drama   Romance  Twentieth Century Fox Film Corporation   \n",
              "4         Comedy      NaN       NaN                   Sandollar Productions   \n",
              "...          ...      ...       ...                                     ...   \n",
              "45461      Drama   Family       NaN                                     NaN   \n",
              "45462      Drama      NaN       NaN                             Sine Olivia   \n",
              "45463     Action    Drama  Thriller                 American World Pictures   \n",
              "45464        NaN      NaN       NaN                               Yermoliev   \n",
              "45465        NaN      NaN       NaN                                     NaN   \n",
              "\n",
              "               produc_com2                   country  language  \n",
              "0                      NaN  United States of America   English  \n",
              "1             Teitler Film  United States of America  Français  \n",
              "2           Lancaster Gate  United States of America   English  \n",
              "3                      NaN  United States of America   English  \n",
              "4      Touchstone Pictures  United States of America   English  \n",
              "...                    ...                       ...       ...  \n",
              "45461                  NaN                      Iran     فارسی  \n",
              "45462                  NaN               Philippines            \n",
              "45463                  NaN  United States of America   English  \n",
              "45464                  NaN                    Russia       NaN  \n",
              "45465                  NaN            United Kingdom   English  \n",
              "\n",
              "[45466 rows x 27 columns]"
            ]
          },
          "execution_count": 53,
          "metadata": {},
          "output_type": "execute_result"
        }
      ],
      "source": [
        "data"
      ]
    },
    {
      "cell_type": "markdown",
      "metadata": {
        "id": "uFE2U_Q1LHpP"
      },
      "source": [
        "Los valores nulos de los campos `revenue`, `budget` deben ser rellenados por el número 0"
      ]
    },
    {
      "cell_type": "code",
      "execution_count": 54,
      "metadata": {
        "id": "xDLLv3R2kIiz"
      },
      "outputs": [],
      "source": [
        "data['budget'] = data['budget'].fillna(0)\n",
        "data['revenue'] = data['revenue'].fillna(0)"
      ]
    },
    {
      "cell_type": "markdown",
      "metadata": {
        "id": "wqcm72KZLWi5"
      },
      "source": [
        "Los valores nulos del campo `release date` deben ser eliminados"
      ]
    },
    {
      "cell_type": "code",
      "execution_count": 55,
      "metadata": {
        "id": "TL3ALTr8GPlb"
      },
      "outputs": [],
      "source": [
        "nombre_columna = 'release_date'\n",
        "data = data.dropna(subset=[nombre_columna])"
      ]
    },
    {
      "cell_type": "markdown",
      "metadata": {
        "id": "pSKzuP0fOPhs"
      },
      "source": [
        " De haber fechas, deberán tener el formato `AAAA-mm-dd`, además deberán crear la columna `release_year` donde extraerán el año de la fecha de estreno.\n"
      ]
    },
    {
      "cell_type": "code",
      "execution_count": 56,
      "metadata": {
        "colab": {
          "base_uri": "https://localhost:8080/"
        },
        "id": "IZjpv91WOQb4",
        "outputId": "a2005f19-3469-476f-e611-9619baaf6a0d"
      },
      "outputs": [
        {
          "name": "stderr",
          "output_type": "stream",
          "text": [
            "C:\\Users\\facun\\AppData\\Local\\Temp\\ipykernel_4508\\4179229598.py:1: SettingWithCopyWarning: \n",
            "A value is trying to be set on a copy of a slice from a DataFrame.\n",
            "Try using .loc[row_indexer,col_indexer] = value instead\n",
            "\n",
            "See the caveats in the documentation: https://pandas.pydata.org/pandas-docs/stable/user_guide/indexing.html#returning-a-view-versus-a-copy\n",
            "  data['release_date'] =  pd.to_datetime(data['release_date'], errors='coerce')\n"
          ]
        }
      ],
      "source": [
        "data['release_date'] =  pd.to_datetime(data['release_date'], errors='coerce')"
      ]
    },
    {
      "cell_type": "code",
      "execution_count": 57,
      "metadata": {
        "colab": {
          "base_uri": "https://localhost:8080/"
        },
        "id": "ZDtCgw-98wPh",
        "outputId": "732b01c3-0d1f-4b8f-afe6-319c496b086a"
      },
      "outputs": [
        {
          "name": "stderr",
          "output_type": "stream",
          "text": [
            "C:\\Users\\facun\\AppData\\Local\\Temp\\ipykernel_4508\\256904507.py:1: SettingWithCopyWarning: \n",
            "A value is trying to be set on a copy of a slice from a DataFrame.\n",
            "Try using .loc[row_indexer,col_indexer] = value instead\n",
            "\n",
            "See the caveats in the documentation: https://pandas.pydata.org/pandas-docs/stable/user_guide/indexing.html#returning-a-view-versus-a-copy\n",
            "  data['release_year'] = data['release_date'].dt.strftime('%Y')\n"
          ]
        }
      ],
      "source": [
        "data['release_year'] = data['release_date'].dt.strftime('%Y')"
      ]
    },
    {
      "cell_type": "markdown",
      "metadata": {
        "id": "EKSacW-iHQh6"
      },
      "source": [
        "Acá transformamos las columnas `release_date` y `release_year` de formato Object a Date\n"
      ]
    },
    {
      "cell_type": "code",
      "execution_count": 58,
      "metadata": {
        "colab": {
          "base_uri": "https://localhost:8080/"
        },
        "id": "5U9kDou3G-jT",
        "outputId": "00a55231-da42-431e-a9e7-91bbe6426299"
      },
      "outputs": [
        {
          "name": "stderr",
          "output_type": "stream",
          "text": [
            "C:\\Users\\facun\\AppData\\Local\\Temp\\ipykernel_4508\\1601711881.py:1: SettingWithCopyWarning: \n",
            "A value is trying to be set on a copy of a slice from a DataFrame.\n",
            "Try using .loc[row_indexer,col_indexer] = value instead\n",
            "\n",
            "See the caveats in the documentation: https://pandas.pydata.org/pandas-docs/stable/user_guide/indexing.html#returning-a-view-versus-a-copy\n",
            "  data['release_year'] = pd.to_datetime(data['release_date'], format='%Y')\n"
          ]
        }
      ],
      "source": [
        "data['release_year'] = pd.to_datetime(data['release_date'], format='%Y')"
      ]
    },
    {
      "cell_type": "code",
      "execution_count": 59,
      "metadata": {
        "colab": {
          "base_uri": "https://localhost:8080/"
        },
        "id": "2mSSkXMdHC5U",
        "outputId": "4f8b51f9-f2b0-4864-fc59-a2e85fb69d63"
      },
      "outputs": [
        {
          "name": "stderr",
          "output_type": "stream",
          "text": [
            "C:\\Users\\facun\\AppData\\Local\\Temp\\ipykernel_4508\\3553755221.py:1: SettingWithCopyWarning: \n",
            "A value is trying to be set on a copy of a slice from a DataFrame.\n",
            "Try using .loc[row_indexer,col_indexer] = value instead\n",
            "\n",
            "See the caveats in the documentation: https://pandas.pydata.org/pandas-docs/stable/user_guide/indexing.html#returning-a-view-versus-a-copy\n",
            "  data['release_year'] = data['release_year'].dt.to_period('Y')\n"
          ]
        }
      ],
      "source": [
        "data['release_year'] = data['release_year'].dt.to_period('Y')"
      ]
    },
    {
      "cell_type": "markdown",
      "metadata": {
        "id": "kQ9xWZZgOPU0"
      },
      "source": [
        "Crear la columna con el retorno de inversión, llamada `return` con los campos `revenue` y `budget`, dividiendo estas dos últimas `revenue/budget`, cuando no hay datos disponibles para calcularlo, deberá tomar el valor `0`.\n"
      ]
    },
    {
      "cell_type": "markdown",
      "metadata": {
        "id": "wvGmlPM6q1RZ"
      },
      "source": [
        "Acá se noto unos datos extraños por lo que se decidió reemplazarlos por cero para poder hacer el return correctamente"
      ]
    },
    {
      "cell_type": "code",
      "execution_count": 60,
      "metadata": {
        "colab": {
          "base_uri": "https://localhost:8080/"
        },
        "id": "nApQHvgCO1Ue",
        "outputId": "3c79a157-0886-4d23-92d0-578810482afb"
      },
      "outputs": [
        {
          "name": "stderr",
          "output_type": "stream",
          "text": [
            "C:\\Users\\facun\\AppData\\Local\\Temp\\ipykernel_4508\\118796259.py:1: SettingWithCopyWarning: \n",
            "A value is trying to be set on a copy of a slice from a DataFrame.\n",
            "Try using .loc[row_indexer,col_indexer] = value instead\n",
            "\n",
            "See the caveats in the documentation: https://pandas.pydata.org/pandas-docs/stable/user_guide/indexing.html#returning-a-view-versus-a-copy\n",
            "  data['budget'] = data['budget'].replace('/zaSf5OG7V8X8gqFvly88zDdRm46.jpg', 0)\n",
            "C:\\Users\\facun\\AppData\\Local\\Temp\\ipykernel_4508\\118796259.py:2: SettingWithCopyWarning: \n",
            "A value is trying to be set on a copy of a slice from a DataFrame.\n",
            "Try using .loc[row_indexer,col_indexer] = value instead\n",
            "\n",
            "See the caveats in the documentation: https://pandas.pydata.org/pandas-docs/stable/user_guide/indexing.html#returning-a-view-versus-a-copy\n",
            "  data['budget'] = data['budget'].replace('/zV8bHuSL6WXoD6FWogP9j4x80bL.jpg', 0)\n",
            "C:\\Users\\facun\\AppData\\Local\\Temp\\ipykernel_4508\\118796259.py:3: SettingWithCopyWarning: \n",
            "A value is trying to be set on a copy of a slice from a DataFrame.\n",
            "Try using .loc[row_indexer,col_indexer] = value instead\n",
            "\n",
            "See the caveats in the documentation: https://pandas.pydata.org/pandas-docs/stable/user_guide/indexing.html#returning-a-view-versus-a-copy\n",
            "  data['budget'] = data['budget'].replace('/ff9qCepilowshEtG2GYWwzt2bs4.jpg', 0)\n",
            "C:\\Users\\facun\\AppData\\Local\\Temp\\ipykernel_4508\\118796259.py:4: SettingWithCopyWarning: \n",
            "A value is trying to be set on a copy of a slice from a DataFrame.\n",
            "Try using .loc[row_indexer,col_indexer] = value instead\n",
            "\n",
            "See the caveats in the documentation: https://pandas.pydata.org/pandas-docs/stable/user_guide/indexing.html#returning-a-view-versus-a-copy\n",
            "  data['budget'] = data['budget'].astype(int)\n"
          ]
        }
      ],
      "source": [
        "data['budget'] = data['budget'].replace('/zaSf5OG7V8X8gqFvly88zDdRm46.jpg', 0)\n",
        "data['budget'] = data['budget'].replace('/zV8bHuSL6WXoD6FWogP9j4x80bL.jpg', 0)\n",
        "data['budget'] = data['budget'].replace('/ff9qCepilowshEtG2GYWwzt2bs4.jpg', 0)\n",
        "data['budget'] = data['budget'].astype(int)"
      ]
    },
    {
      "cell_type": "code",
      "execution_count": 61,
      "metadata": {
        "colab": {
          "base_uri": "https://localhost:8080/"
        },
        "id": "hdvTyxkrJa0C",
        "outputId": "6fdf2c34-6217-4171-cbe0-83c0465ecf82"
      },
      "outputs": [
        {
          "name": "stderr",
          "output_type": "stream",
          "text": [
            "C:\\Users\\facun\\AppData\\Local\\Temp\\ipykernel_4508\\3988146083.py:6: SettingWithCopyWarning: \n",
            "A value is trying to be set on a copy of a slice from a DataFrame.\n",
            "Try using .loc[row_indexer,col_indexer] = value instead\n",
            "\n",
            "See the caveats in the documentation: https://pandas.pydata.org/pandas-docs/stable/user_guide/indexing.html#returning-a-view-versus-a-copy\n",
            "  data['return'] = data.apply(calcular_columna, axis=1)\n"
          ]
        }
      ],
      "source": [
        "def calcular_columna(row):\n",
        "    if row['budget'] != 0 and row['revenue'] != 0:\n",
        "        return row['revenue'] / row['budget']\n",
        "    else:\n",
        "        return np.nan\n",
        "data['return'] = data.apply(calcular_columna, axis=1)"
      ]
    },
    {
      "cell_type": "markdown",
      "metadata": {
        "id": "NDM6AsUZOA6j"
      },
      "source": [
        "Eliminar las columnas que no serán utilizadas: `video`,`imdb_id`,`adult`,`original_title`,`poster_path` y `homepage`.\n"
      ]
    },
    {
      "cell_type": "code",
      "execution_count": 62,
      "metadata": {
        "id": "meHP8w5wO14y"
      },
      "outputs": [],
      "source": [
        "columnas = ['video', 'imdb_id', 'adult', 'original_title',\n",
        "            'poster_path', 'homepage']\n",
        "\n",
        "data = data.drop(columns=columnas)"
      ]
    },
    {
      "cell_type": "code",
      "execution_count": 63,
      "metadata": {
        "colab": {
          "base_uri": "https://localhost:8080/",
          "height": 973
        },
        "id": "1SAjKA9Hmom6",
        "outputId": "38261dc0-11f4-4a8c-f697-c79fc4aff041"
      },
      "outputs": [
        {
          "data": {
            "text/html": [
              "<div>\n",
              "<style scoped>\n",
              "    .dataframe tbody tr th:only-of-type {\n",
              "        vertical-align: middle;\n",
              "    }\n",
              "\n",
              "    .dataframe tbody tr th {\n",
              "        vertical-align: top;\n",
              "    }\n",
              "\n",
              "    .dataframe thead th {\n",
              "        text-align: right;\n",
              "    }\n",
              "</style>\n",
              "<table border=\"1\" class=\"dataframe\">\n",
              "  <thead>\n",
              "    <tr style=\"text-align: right;\">\n",
              "      <th></th>\n",
              "      <th>belongs_to_collection</th>\n",
              "      <th>budget</th>\n",
              "      <th>id</th>\n",
              "      <th>original_language</th>\n",
              "      <th>overview</th>\n",
              "      <th>popularity</th>\n",
              "      <th>release_date</th>\n",
              "      <th>revenue</th>\n",
              "      <th>runtime</th>\n",
              "      <th>status</th>\n",
              "      <th>tagline</th>\n",
              "      <th>title</th>\n",
              "      <th>vote_average</th>\n",
              "      <th>vote_count</th>\n",
              "      <th>g1</th>\n",
              "      <th>g2</th>\n",
              "      <th>g3</th>\n",
              "      <th>produc_com1</th>\n",
              "      <th>produc_com2</th>\n",
              "      <th>country</th>\n",
              "      <th>language</th>\n",
              "      <th>release_year</th>\n",
              "      <th>return</th>\n",
              "    </tr>\n",
              "  </thead>\n",
              "  <tbody>\n",
              "    <tr>\n",
              "      <th>0</th>\n",
              "      <td>Toy Story Collection</td>\n",
              "      <td>30000000</td>\n",
              "      <td>862</td>\n",
              "      <td>en</td>\n",
              "      <td>Led by Woody, Andy's toys live happily in his ...</td>\n",
              "      <td>21.946943</td>\n",
              "      <td>1995-10-30</td>\n",
              "      <td>373554033.0</td>\n",
              "      <td>81.0</td>\n",
              "      <td>Released</td>\n",
              "      <td>NaN</td>\n",
              "      <td>Toy Story</td>\n",
              "      <td>7.7</td>\n",
              "      <td>5415.0</td>\n",
              "      <td>Animation</td>\n",
              "      <td>Comedy</td>\n",
              "      <td>Family</td>\n",
              "      <td>Pixar Animation Studios</td>\n",
              "      <td>NaN</td>\n",
              "      <td>United States of America</td>\n",
              "      <td>English</td>\n",
              "      <td>1995</td>\n",
              "      <td>12.451801</td>\n",
              "    </tr>\n",
              "    <tr>\n",
              "      <th>1</th>\n",
              "      <td>NaN</td>\n",
              "      <td>65000000</td>\n",
              "      <td>8844</td>\n",
              "      <td>en</td>\n",
              "      <td>When siblings Judy and Peter discover an encha...</td>\n",
              "      <td>17.015539</td>\n",
              "      <td>1995-12-15</td>\n",
              "      <td>262797249.0</td>\n",
              "      <td>104.0</td>\n",
              "      <td>Released</td>\n",
              "      <td>Roll the dice and unleash the excitement!</td>\n",
              "      <td>Jumanji</td>\n",
              "      <td>6.9</td>\n",
              "      <td>2413.0</td>\n",
              "      <td>Adventure</td>\n",
              "      <td>Fantasy</td>\n",
              "      <td>Family</td>\n",
              "      <td>TriStar Pictures</td>\n",
              "      <td>Teitler Film</td>\n",
              "      <td>United States of America</td>\n",
              "      <td>Français</td>\n",
              "      <td>1995</td>\n",
              "      <td>4.043035</td>\n",
              "    </tr>\n",
              "    <tr>\n",
              "      <th>2</th>\n",
              "      <td>Grumpy Old Men Collection</td>\n",
              "      <td>0</td>\n",
              "      <td>15602</td>\n",
              "      <td>en</td>\n",
              "      <td>A family wedding reignites the ancient feud be...</td>\n",
              "      <td>11.7129</td>\n",
              "      <td>1995-12-22</td>\n",
              "      <td>0.0</td>\n",
              "      <td>101.0</td>\n",
              "      <td>Released</td>\n",
              "      <td>Still Yelling. Still Fighting. Still Ready for...</td>\n",
              "      <td>Grumpier Old Men</td>\n",
              "      <td>6.5</td>\n",
              "      <td>92.0</td>\n",
              "      <td>Romance</td>\n",
              "      <td>Comedy</td>\n",
              "      <td>NaN</td>\n",
              "      <td>Warner Bros.</td>\n",
              "      <td>Lancaster Gate</td>\n",
              "      <td>United States of America</td>\n",
              "      <td>English</td>\n",
              "      <td>1995</td>\n",
              "      <td>NaN</td>\n",
              "    </tr>\n",
              "    <tr>\n",
              "      <th>3</th>\n",
              "      <td>NaN</td>\n",
              "      <td>16000000</td>\n",
              "      <td>31357</td>\n",
              "      <td>en</td>\n",
              "      <td>Cheated on, mistreated and stepped on, the wom...</td>\n",
              "      <td>3.859495</td>\n",
              "      <td>1995-12-22</td>\n",
              "      <td>81452156.0</td>\n",
              "      <td>127.0</td>\n",
              "      <td>Released</td>\n",
              "      <td>Friends are the people who let you be yourself...</td>\n",
              "      <td>Waiting to Exhale</td>\n",
              "      <td>6.1</td>\n",
              "      <td>34.0</td>\n",
              "      <td>Comedy</td>\n",
              "      <td>Drama</td>\n",
              "      <td>Romance</td>\n",
              "      <td>Twentieth Century Fox Film Corporation</td>\n",
              "      <td>NaN</td>\n",
              "      <td>United States of America</td>\n",
              "      <td>English</td>\n",
              "      <td>1995</td>\n",
              "      <td>5.090760</td>\n",
              "    </tr>\n",
              "    <tr>\n",
              "      <th>4</th>\n",
              "      <td>Father of the Bride Collection</td>\n",
              "      <td>0</td>\n",
              "      <td>11862</td>\n",
              "      <td>en</td>\n",
              "      <td>Just when George Banks has recovered from his ...</td>\n",
              "      <td>8.387519</td>\n",
              "      <td>1995-02-10</td>\n",
              "      <td>76578911.0</td>\n",
              "      <td>106.0</td>\n",
              "      <td>Released</td>\n",
              "      <td>Just When His World Is Back To Normal... He's ...</td>\n",
              "      <td>Father of the Bride Part II</td>\n",
              "      <td>5.7</td>\n",
              "      <td>173.0</td>\n",
              "      <td>Comedy</td>\n",
              "      <td>NaN</td>\n",
              "      <td>NaN</td>\n",
              "      <td>Sandollar Productions</td>\n",
              "      <td>Touchstone Pictures</td>\n",
              "      <td>United States of America</td>\n",
              "      <td>English</td>\n",
              "      <td>1995</td>\n",
              "      <td>NaN</td>\n",
              "    </tr>\n",
              "    <tr>\n",
              "      <th>...</th>\n",
              "      <td>...</td>\n",
              "      <td>...</td>\n",
              "      <td>...</td>\n",
              "      <td>...</td>\n",
              "      <td>...</td>\n",
              "      <td>...</td>\n",
              "      <td>...</td>\n",
              "      <td>...</td>\n",
              "      <td>...</td>\n",
              "      <td>...</td>\n",
              "      <td>...</td>\n",
              "      <td>...</td>\n",
              "      <td>...</td>\n",
              "      <td>...</td>\n",
              "      <td>...</td>\n",
              "      <td>...</td>\n",
              "      <td>...</td>\n",
              "      <td>...</td>\n",
              "      <td>...</td>\n",
              "      <td>...</td>\n",
              "      <td>...</td>\n",
              "      <td>...</td>\n",
              "      <td>...</td>\n",
              "    </tr>\n",
              "    <tr>\n",
              "      <th>45460</th>\n",
              "      <td>NaN</td>\n",
              "      <td>0</td>\n",
              "      <td>30840</td>\n",
              "      <td>en</td>\n",
              "      <td>Yet another version of the classic epic, with ...</td>\n",
              "      <td>5.683753</td>\n",
              "      <td>1991-05-13</td>\n",
              "      <td>0.0</td>\n",
              "      <td>104.0</td>\n",
              "      <td>Released</td>\n",
              "      <td>NaN</td>\n",
              "      <td>Robin Hood</td>\n",
              "      <td>5.7</td>\n",
              "      <td>26.0</td>\n",
              "      <td>Drama</td>\n",
              "      <td>Action</td>\n",
              "      <td>Romance</td>\n",
              "      <td>Westdeutscher Rundfunk (WDR)</td>\n",
              "      <td>Working Title Films</td>\n",
              "      <td>United States of America</td>\n",
              "      <td>English</td>\n",
              "      <td>1991</td>\n",
              "      <td>NaN</td>\n",
              "    </tr>\n",
              "    <tr>\n",
              "      <th>45462</th>\n",
              "      <td>NaN</td>\n",
              "      <td>0</td>\n",
              "      <td>111109</td>\n",
              "      <td>tl</td>\n",
              "      <td>An artist struggles to finish his work while a...</td>\n",
              "      <td>0.178241</td>\n",
              "      <td>2011-11-17</td>\n",
              "      <td>0.0</td>\n",
              "      <td>360.0</td>\n",
              "      <td>Released</td>\n",
              "      <td>NaN</td>\n",
              "      <td>Century of Birthing</td>\n",
              "      <td>9.0</td>\n",
              "      <td>3.0</td>\n",
              "      <td>Drama</td>\n",
              "      <td>NaN</td>\n",
              "      <td>NaN</td>\n",
              "      <td>Sine Olivia</td>\n",
              "      <td>NaN</td>\n",
              "      <td>Philippines</td>\n",
              "      <td></td>\n",
              "      <td>2011</td>\n",
              "      <td>NaN</td>\n",
              "    </tr>\n",
              "    <tr>\n",
              "      <th>45463</th>\n",
              "      <td>NaN</td>\n",
              "      <td>0</td>\n",
              "      <td>67758</td>\n",
              "      <td>en</td>\n",
              "      <td>When one of her hits goes wrong, a professiona...</td>\n",
              "      <td>0.903007</td>\n",
              "      <td>2003-08-01</td>\n",
              "      <td>0.0</td>\n",
              "      <td>90.0</td>\n",
              "      <td>Released</td>\n",
              "      <td>A deadly game of wits.</td>\n",
              "      <td>Betrayal</td>\n",
              "      <td>3.8</td>\n",
              "      <td>6.0</td>\n",
              "      <td>Action</td>\n",
              "      <td>Drama</td>\n",
              "      <td>Thriller</td>\n",
              "      <td>American World Pictures</td>\n",
              "      <td>NaN</td>\n",
              "      <td>United States of America</td>\n",
              "      <td>English</td>\n",
              "      <td>2003</td>\n",
              "      <td>NaN</td>\n",
              "    </tr>\n",
              "    <tr>\n",
              "      <th>45464</th>\n",
              "      <td>NaN</td>\n",
              "      <td>0</td>\n",
              "      <td>227506</td>\n",
              "      <td>en</td>\n",
              "      <td>In a small town live two brothers, one a minis...</td>\n",
              "      <td>0.003503</td>\n",
              "      <td>1917-10-21</td>\n",
              "      <td>0.0</td>\n",
              "      <td>87.0</td>\n",
              "      <td>Released</td>\n",
              "      <td>NaN</td>\n",
              "      <td>Satan Triumphant</td>\n",
              "      <td>0.0</td>\n",
              "      <td>0.0</td>\n",
              "      <td>NaN</td>\n",
              "      <td>NaN</td>\n",
              "      <td>NaN</td>\n",
              "      <td>Yermoliev</td>\n",
              "      <td>NaN</td>\n",
              "      <td>Russia</td>\n",
              "      <td>NaN</td>\n",
              "      <td>1917</td>\n",
              "      <td>NaN</td>\n",
              "    </tr>\n",
              "    <tr>\n",
              "      <th>45465</th>\n",
              "      <td>NaN</td>\n",
              "      <td>0</td>\n",
              "      <td>461257</td>\n",
              "      <td>en</td>\n",
              "      <td>50 years after decriminalisation of homosexual...</td>\n",
              "      <td>0.163015</td>\n",
              "      <td>2017-06-09</td>\n",
              "      <td>0.0</td>\n",
              "      <td>75.0</td>\n",
              "      <td>Released</td>\n",
              "      <td>NaN</td>\n",
              "      <td>Queerama</td>\n",
              "      <td>0.0</td>\n",
              "      <td>0.0</td>\n",
              "      <td>NaN</td>\n",
              "      <td>NaN</td>\n",
              "      <td>NaN</td>\n",
              "      <td>NaN</td>\n",
              "      <td>NaN</td>\n",
              "      <td>United Kingdom</td>\n",
              "      <td>English</td>\n",
              "      <td>2017</td>\n",
              "      <td>NaN</td>\n",
              "    </tr>\n",
              "  </tbody>\n",
              "</table>\n",
              "<p>45379 rows × 23 columns</p>\n",
              "</div>"
            ],
            "text/plain": [
              "                belongs_to_collection    budget      id original_language  \\\n",
              "0                Toy Story Collection  30000000     862                en   \n",
              "1                                 NaN  65000000    8844                en   \n",
              "2           Grumpy Old Men Collection         0   15602                en   \n",
              "3                                 NaN  16000000   31357                en   \n",
              "4      Father of the Bride Collection         0   11862                en   \n",
              "...                               ...       ...     ...               ...   \n",
              "45460                             NaN         0   30840                en   \n",
              "45462                             NaN         0  111109                tl   \n",
              "45463                             NaN         0   67758                en   \n",
              "45464                             NaN         0  227506                en   \n",
              "45465                             NaN         0  461257                en   \n",
              "\n",
              "                                                overview popularity  \\\n",
              "0      Led by Woody, Andy's toys live happily in his ...  21.946943   \n",
              "1      When siblings Judy and Peter discover an encha...  17.015539   \n",
              "2      A family wedding reignites the ancient feud be...    11.7129   \n",
              "3      Cheated on, mistreated and stepped on, the wom...   3.859495   \n",
              "4      Just when George Banks has recovered from his ...   8.387519   \n",
              "...                                                  ...        ...   \n",
              "45460  Yet another version of the classic epic, with ...   5.683753   \n",
              "45462  An artist struggles to finish his work while a...   0.178241   \n",
              "45463  When one of her hits goes wrong, a professiona...   0.903007   \n",
              "45464  In a small town live two brothers, one a minis...   0.003503   \n",
              "45465  50 years after decriminalisation of homosexual...   0.163015   \n",
              "\n",
              "      release_date      revenue  runtime    status  \\\n",
              "0       1995-10-30  373554033.0     81.0  Released   \n",
              "1       1995-12-15  262797249.0    104.0  Released   \n",
              "2       1995-12-22          0.0    101.0  Released   \n",
              "3       1995-12-22   81452156.0    127.0  Released   \n",
              "4       1995-02-10   76578911.0    106.0  Released   \n",
              "...            ...          ...      ...       ...   \n",
              "45460   1991-05-13          0.0    104.0  Released   \n",
              "45462   2011-11-17          0.0    360.0  Released   \n",
              "45463   2003-08-01          0.0     90.0  Released   \n",
              "45464   1917-10-21          0.0     87.0  Released   \n",
              "45465   2017-06-09          0.0     75.0  Released   \n",
              "\n",
              "                                                 tagline  \\\n",
              "0                                                    NaN   \n",
              "1              Roll the dice and unleash the excitement!   \n",
              "2      Still Yelling. Still Fighting. Still Ready for...   \n",
              "3      Friends are the people who let you be yourself...   \n",
              "4      Just When His World Is Back To Normal... He's ...   \n",
              "...                                                  ...   \n",
              "45460                                                NaN   \n",
              "45462                                                NaN   \n",
              "45463                             A deadly game of wits.   \n",
              "45464                                                NaN   \n",
              "45465                                                NaN   \n",
              "\n",
              "                             title  vote_average  vote_count         g1  \\\n",
              "0                        Toy Story           7.7      5415.0  Animation   \n",
              "1                          Jumanji           6.9      2413.0  Adventure   \n",
              "2                 Grumpier Old Men           6.5        92.0    Romance   \n",
              "3                Waiting to Exhale           6.1        34.0     Comedy   \n",
              "4      Father of the Bride Part II           5.7       173.0     Comedy   \n",
              "...                            ...           ...         ...        ...   \n",
              "45460                   Robin Hood           5.7        26.0      Drama   \n",
              "45462          Century of Birthing           9.0         3.0      Drama   \n",
              "45463                     Betrayal           3.8         6.0     Action   \n",
              "45464             Satan Triumphant           0.0         0.0        NaN   \n",
              "45465                     Queerama           0.0         0.0        NaN   \n",
              "\n",
              "            g2        g3                             produc_com1  \\\n",
              "0       Comedy    Family                 Pixar Animation Studios   \n",
              "1      Fantasy    Family                        TriStar Pictures   \n",
              "2       Comedy       NaN                            Warner Bros.   \n",
              "3        Drama   Romance  Twentieth Century Fox Film Corporation   \n",
              "4          NaN       NaN                   Sandollar Productions   \n",
              "...        ...       ...                                     ...   \n",
              "45460   Action   Romance            Westdeutscher Rundfunk (WDR)   \n",
              "45462      NaN       NaN                             Sine Olivia   \n",
              "45463    Drama  Thriller                 American World Pictures   \n",
              "45464      NaN       NaN                               Yermoliev   \n",
              "45465      NaN       NaN                                     NaN   \n",
              "\n",
              "               produc_com2                   country  language release_year  \\\n",
              "0                      NaN  United States of America   English         1995   \n",
              "1             Teitler Film  United States of America  Français         1995   \n",
              "2           Lancaster Gate  United States of America   English         1995   \n",
              "3                      NaN  United States of America   English         1995   \n",
              "4      Touchstone Pictures  United States of America   English         1995   \n",
              "...                    ...                       ...       ...          ...   \n",
              "45460  Working Title Films  United States of America   English         1991   \n",
              "45462                  NaN               Philippines                   2011   \n",
              "45463                  NaN  United States of America   English         2003   \n",
              "45464                  NaN                    Russia       NaN         1917   \n",
              "45465                  NaN            United Kingdom   English         2017   \n",
              "\n",
              "          return  \n",
              "0      12.451801  \n",
              "1       4.043035  \n",
              "2            NaN  \n",
              "3       5.090760  \n",
              "4            NaN  \n",
              "...          ...  \n",
              "45460        NaN  \n",
              "45462        NaN  \n",
              "45463        NaN  \n",
              "45464        NaN  \n",
              "45465        NaN  \n",
              "\n",
              "[45379 rows x 23 columns]"
            ]
          },
          "execution_count": 63,
          "metadata": {},
          "output_type": "execute_result"
        }
      ],
      "source": [
        "data"
      ]
    },
    {
      "cell_type": "markdown",
      "metadata": {
        "id": "1tOb1-NwzDP9"
      },
      "source": []
    },
    {
      "cell_type": "code",
      "execution_count": 64,
      "metadata": {
        "id": "5pKCTGOvsN_V"
      },
      "outputs": [],
      "source": [
        "df = pd.read_csv(\"credits.csv\")"
      ]
    },
    {
      "cell_type": "code",
      "execution_count": 65,
      "metadata": {
        "id": "zUY0CZr6zA37"
      },
      "outputs": [],
      "source": [
        "df['crew'] = df['crew'].apply(eval)"
      ]
    },
    {
      "cell_type": "code",
      "execution_count": 66,
      "metadata": {
        "id": "pNqbJyVFzIJD"
      },
      "outputs": [],
      "source": [
        "list_crew = []"
      ]
    },
    {
      "cell_type": "code",
      "execution_count": 67,
      "metadata": {
        "id": "EmhQSjAWzNJ1"
      },
      "outputs": [],
      "source": [
        "for i, j in enumerate(df['crew']):\n",
        "    dfcrew = pd.json_normalize(df['crew'][i])\n",
        "    list_crew.append(dfcrew)\n"
      ]
    },
    {
      "cell_type": "code",
      "execution_count": 68,
      "metadata": {
        "id": "6LelTidFzS7K"
      },
      "outputs": [],
      "source": [
        "df_crew = pd.concat(list_crew, ignore_index=True)"
      ]
    },
    {
      "cell_type": "code",
      "execution_count": 69,
      "metadata": {
        "colab": {
          "base_uri": "https://localhost:8080/",
          "height": 423
        },
        "id": "X9JbjMAXzdbw",
        "outputId": "f80add28-206e-4df1-f5d7-a59786cb2765"
      },
      "outputs": [
        {
          "data": {
            "text/html": [
              "<div>\n",
              "<style scoped>\n",
              "    .dataframe tbody tr th:only-of-type {\n",
              "        vertical-align: middle;\n",
              "    }\n",
              "\n",
              "    .dataframe tbody tr th {\n",
              "        vertical-align: top;\n",
              "    }\n",
              "\n",
              "    .dataframe thead th {\n",
              "        text-align: right;\n",
              "    }\n",
              "</style>\n",
              "<table border=\"1\" class=\"dataframe\">\n",
              "  <thead>\n",
              "    <tr style=\"text-align: right;\">\n",
              "      <th></th>\n",
              "      <th>credit_id</th>\n",
              "      <th>department</th>\n",
              "      <th>gender</th>\n",
              "      <th>id</th>\n",
              "      <th>job</th>\n",
              "      <th>name</th>\n",
              "      <th>profile_path</th>\n",
              "    </tr>\n",
              "  </thead>\n",
              "  <tbody>\n",
              "    <tr>\n",
              "      <th>0</th>\n",
              "      <td>52fe4284c3a36847f8024f49</td>\n",
              "      <td>Directing</td>\n",
              "      <td>2</td>\n",
              "      <td>7879</td>\n",
              "      <td>Director</td>\n",
              "      <td>John Lasseter</td>\n",
              "      <td>/7EdqiNbr4FRjIhKHyPPdFfEEEFG.jpg</td>\n",
              "    </tr>\n",
              "    <tr>\n",
              "      <th>1</th>\n",
              "      <td>52fe4284c3a36847f8024f4f</td>\n",
              "      <td>Writing</td>\n",
              "      <td>2</td>\n",
              "      <td>12891</td>\n",
              "      <td>Screenplay</td>\n",
              "      <td>Joss Whedon</td>\n",
              "      <td>/dTiVsuaTVTeGmvkhcyJvKp2A5kr.jpg</td>\n",
              "    </tr>\n",
              "    <tr>\n",
              "      <th>2</th>\n",
              "      <td>52fe4284c3a36847f8024f55</td>\n",
              "      <td>Writing</td>\n",
              "      <td>2</td>\n",
              "      <td>7</td>\n",
              "      <td>Screenplay</td>\n",
              "      <td>Andrew Stanton</td>\n",
              "      <td>/pvQWsu0qc8JFQhMVJkTHuexUAa1.jpg</td>\n",
              "    </tr>\n",
              "    <tr>\n",
              "      <th>3</th>\n",
              "      <td>52fe4284c3a36847f8024f5b</td>\n",
              "      <td>Writing</td>\n",
              "      <td>2</td>\n",
              "      <td>12892</td>\n",
              "      <td>Screenplay</td>\n",
              "      <td>Joel Cohen</td>\n",
              "      <td>/dAubAiZcvKFbboWlj7oXOkZnTSu.jpg</td>\n",
              "    </tr>\n",
              "    <tr>\n",
              "      <th>4</th>\n",
              "      <td>52fe4284c3a36847f8024f61</td>\n",
              "      <td>Writing</td>\n",
              "      <td>0</td>\n",
              "      <td>12893</td>\n",
              "      <td>Screenplay</td>\n",
              "      <td>Alec Sokolow</td>\n",
              "      <td>/v79vlRYi94BZUQnkkyznbGUZLjT.jpg</td>\n",
              "    </tr>\n",
              "    <tr>\n",
              "      <th>...</th>\n",
              "      <td>...</td>\n",
              "      <td>...</td>\n",
              "      <td>...</td>\n",
              "      <td>...</td>\n",
              "      <td>...</td>\n",
              "      <td>...</td>\n",
              "      <td>...</td>\n",
              "    </tr>\n",
              "    <tr>\n",
              "      <th>464309</th>\n",
              "      <td>52fe4776c3a368484e0c8399</td>\n",
              "      <td>Sound</td>\n",
              "      <td>0</td>\n",
              "      <td>549356</td>\n",
              "      <td>Original Music Composer</td>\n",
              "      <td>Richard McHugh</td>\n",
              "      <td>None</td>\n",
              "    </tr>\n",
              "    <tr>\n",
              "      <th>464310</th>\n",
              "      <td>52fe4776c3a368484e0c839f</td>\n",
              "      <td>Camera</td>\n",
              "      <td>2</td>\n",
              "      <td>58818</td>\n",
              "      <td>Director of Photography</td>\n",
              "      <td>João Fernandes</td>\n",
              "      <td>None</td>\n",
              "    </tr>\n",
              "    <tr>\n",
              "      <th>464311</th>\n",
              "      <td>533bccebc3a36844cf0011a7</td>\n",
              "      <td>Directing</td>\n",
              "      <td>0</td>\n",
              "      <td>1085341</td>\n",
              "      <td>Director</td>\n",
              "      <td>Yakov Protazanov</td>\n",
              "      <td>/yyjbGdCs2ZN6IlZNCfmBWyuRDlt.jpg</td>\n",
              "    </tr>\n",
              "    <tr>\n",
              "      <th>464312</th>\n",
              "      <td>58ebbc26925141281908aa0a</td>\n",
              "      <td>Production</td>\n",
              "      <td>2</td>\n",
              "      <td>1195656</td>\n",
              "      <td>Producer</td>\n",
              "      <td>Joseph N. Ermolieff</td>\n",
              "      <td>None</td>\n",
              "    </tr>\n",
              "    <tr>\n",
              "      <th>464313</th>\n",
              "      <td>593e676c92514105b702e68e</td>\n",
              "      <td>Directing</td>\n",
              "      <td>0</td>\n",
              "      <td>1344495</td>\n",
              "      <td>Director</td>\n",
              "      <td>Daisy Asquith</td>\n",
              "      <td>None</td>\n",
              "    </tr>\n",
              "  </tbody>\n",
              "</table>\n",
              "<p>464314 rows × 7 columns</p>\n",
              "</div>"
            ],
            "text/plain": [
              "                       credit_id  department  gender       id  \\\n",
              "0       52fe4284c3a36847f8024f49   Directing       2     7879   \n",
              "1       52fe4284c3a36847f8024f4f     Writing       2    12891   \n",
              "2       52fe4284c3a36847f8024f55     Writing       2        7   \n",
              "3       52fe4284c3a36847f8024f5b     Writing       2    12892   \n",
              "4       52fe4284c3a36847f8024f61     Writing       0    12893   \n",
              "...                          ...         ...     ...      ...   \n",
              "464309  52fe4776c3a368484e0c8399       Sound       0   549356   \n",
              "464310  52fe4776c3a368484e0c839f      Camera       2    58818   \n",
              "464311  533bccebc3a36844cf0011a7   Directing       0  1085341   \n",
              "464312  58ebbc26925141281908aa0a  Production       2  1195656   \n",
              "464313  593e676c92514105b702e68e   Directing       0  1344495   \n",
              "\n",
              "                            job                 name  \\\n",
              "0                      Director        John Lasseter   \n",
              "1                    Screenplay          Joss Whedon   \n",
              "2                    Screenplay       Andrew Stanton   \n",
              "3                    Screenplay           Joel Cohen   \n",
              "4                    Screenplay         Alec Sokolow   \n",
              "...                         ...                  ...   \n",
              "464309  Original Music Composer       Richard McHugh   \n",
              "464310  Director of Photography       João Fernandes   \n",
              "464311                 Director     Yakov Protazanov   \n",
              "464312                 Producer  Joseph N. Ermolieff   \n",
              "464313                 Director        Daisy Asquith   \n",
              "\n",
              "                            profile_path  \n",
              "0       /7EdqiNbr4FRjIhKHyPPdFfEEEFG.jpg  \n",
              "1       /dTiVsuaTVTeGmvkhcyJvKp2A5kr.jpg  \n",
              "2       /pvQWsu0qc8JFQhMVJkTHuexUAa1.jpg  \n",
              "3       /dAubAiZcvKFbboWlj7oXOkZnTSu.jpg  \n",
              "4       /v79vlRYi94BZUQnkkyznbGUZLjT.jpg  \n",
              "...                                  ...  \n",
              "464309                              None  \n",
              "464310                              None  \n",
              "464311  /yyjbGdCs2ZN6IlZNCfmBWyuRDlt.jpg  \n",
              "464312                              None  \n",
              "464313                              None  \n",
              "\n",
              "[464314 rows x 7 columns]"
            ]
          },
          "execution_count": 69,
          "metadata": {},
          "output_type": "execute_result"
        }
      ],
      "source": [
        "df_crew"
      ]
    },
    {
      "cell_type": "code",
      "execution_count": 70,
      "metadata": {
        "id": "iTsVkiMRzho5"
      },
      "outputs": [],
      "source": [
        "data_list = []\n",
        "for i in range(len(df)):\n",
        "    data = pd.DataFrame(df.crew[i])\n",
        "    data['id'] = df.id[i]\n",
        "    data_list.append(data)\n"
      ]
    },
    {
      "cell_type": "code",
      "execution_count": 71,
      "metadata": {},
      "outputs": [],
      "source": [
        "dfcast = pd.concat(data_list, ignore_index=True)\n",
        "prueba = dfcast[dfcast['job'] =='Director']"
      ]
    },
    {
      "cell_type": "code",
      "execution_count": 72,
      "metadata": {},
      "outputs": [],
      "source": [
        "final = prueba.drop(columns=['profile_path', 'credit_id', 'gender', 'department', 'job'])"
      ]
    },
    {
      "cell_type": "code",
      "execution_count": 73,
      "metadata": {},
      "outputs": [
        {
          "data": {
            "text/html": [
              "<div>\n",
              "<style scoped>\n",
              "    .dataframe tbody tr th:only-of-type {\n",
              "        vertical-align: middle;\n",
              "    }\n",
              "\n",
              "    .dataframe tbody tr th {\n",
              "        vertical-align: top;\n",
              "    }\n",
              "\n",
              "    .dataframe thead th {\n",
              "        text-align: right;\n",
              "    }\n",
              "</style>\n",
              "<table border=\"1\" class=\"dataframe\">\n",
              "  <thead>\n",
              "    <tr style=\"text-align: right;\">\n",
              "      <th></th>\n",
              "      <th>id</th>\n",
              "      <th>name</th>\n",
              "    </tr>\n",
              "  </thead>\n",
              "  <tbody>\n",
              "    <tr>\n",
              "      <th>0</th>\n",
              "      <td>862</td>\n",
              "      <td>John Lasseter</td>\n",
              "    </tr>\n",
              "    <tr>\n",
              "      <th>109</th>\n",
              "      <td>8844</td>\n",
              "      <td>Joe Johnston</td>\n",
              "    </tr>\n",
              "    <tr>\n",
              "      <th>122</th>\n",
              "      <td>15602</td>\n",
              "      <td>Howard Deutch</td>\n",
              "    </tr>\n",
              "    <tr>\n",
              "      <th>126</th>\n",
              "      <td>31357</td>\n",
              "      <td>Forest Whitaker</td>\n",
              "    </tr>\n",
              "    <tr>\n",
              "      <th>141</th>\n",
              "      <td>11862</td>\n",
              "      <td>Charles Shyer</td>\n",
              "    </tr>\n",
              "    <tr>\n",
              "      <th>...</th>\n",
              "      <td>...</td>\n",
              "      <td>...</td>\n",
              "    </tr>\n",
              "    <tr>\n",
              "      <th>464291</th>\n",
              "      <td>439050</td>\n",
              "      <td>Hamid Nematollah</td>\n",
              "    </tr>\n",
              "    <tr>\n",
              "      <th>464300</th>\n",
              "      <td>111109</td>\n",
              "      <td>Lav Diaz</td>\n",
              "    </tr>\n",
              "    <tr>\n",
              "      <th>464306</th>\n",
              "      <td>67758</td>\n",
              "      <td>Mark L. Lester</td>\n",
              "    </tr>\n",
              "    <tr>\n",
              "      <th>464311</th>\n",
              "      <td>227506</td>\n",
              "      <td>Yakov Protazanov</td>\n",
              "    </tr>\n",
              "    <tr>\n",
              "      <th>464313</th>\n",
              "      <td>461257</td>\n",
              "      <td>Daisy Asquith</td>\n",
              "    </tr>\n",
              "  </tbody>\n",
              "</table>\n",
              "<p>49048 rows × 2 columns</p>\n",
              "</div>"
            ],
            "text/plain": [
              "            id              name\n",
              "0          862     John Lasseter\n",
              "109       8844      Joe Johnston\n",
              "122      15602     Howard Deutch\n",
              "126      31357   Forest Whitaker\n",
              "141      11862     Charles Shyer\n",
              "...        ...               ...\n",
              "464291  439050  Hamid Nematollah\n",
              "464300  111109          Lav Diaz\n",
              "464306   67758    Mark L. Lester\n",
              "464311  227506  Yakov Protazanov\n",
              "464313  461257     Daisy Asquith\n",
              "\n",
              "[49048 rows x 2 columns]"
            ]
          },
          "execution_count": 73,
          "metadata": {},
          "output_type": "execute_result"
        }
      ],
      "source": [
        "final"
      ]
    },
    {
      "cell_type": "code",
      "execution_count": 74,
      "metadata": {},
      "outputs": [],
      "source": [
        "dfdirectores = pd.merge(data, final, on='id')"
      ]
    },
    {
      "cell_type": "code",
      "execution_count": 75,
      "metadata": {},
      "outputs": [
        {
          "data": {
            "text/html": [
              "<div>\n",
              "<style scoped>\n",
              "    .dataframe tbody tr th:only-of-type {\n",
              "        vertical-align: middle;\n",
              "    }\n",
              "\n",
              "    .dataframe tbody tr th {\n",
              "        vertical-align: top;\n",
              "    }\n",
              "\n",
              "    .dataframe thead th {\n",
              "        text-align: right;\n",
              "    }\n",
              "</style>\n",
              "<table border=\"1\" class=\"dataframe\">\n",
              "  <thead>\n",
              "    <tr style=\"text-align: right;\">\n",
              "      <th></th>\n",
              "      <th>credit_id</th>\n",
              "      <th>department</th>\n",
              "      <th>gender</th>\n",
              "      <th>id</th>\n",
              "      <th>job</th>\n",
              "      <th>name_x</th>\n",
              "      <th>profile_path</th>\n",
              "      <th>name_y</th>\n",
              "    </tr>\n",
              "  </thead>\n",
              "  <tbody>\n",
              "    <tr>\n",
              "      <th>0</th>\n",
              "      <td>593e676c92514105b702e68e</td>\n",
              "      <td>Directing</td>\n",
              "      <td>0</td>\n",
              "      <td>461257</td>\n",
              "      <td>Director</td>\n",
              "      <td>Daisy Asquith</td>\n",
              "      <td>None</td>\n",
              "      <td>Daisy Asquith</td>\n",
              "    </tr>\n",
              "  </tbody>\n",
              "</table>\n",
              "</div>"
            ],
            "text/plain": [
              "                  credit_id department  gender      id       job  \\\n",
              "0  593e676c92514105b702e68e  Directing       0  461257  Director   \n",
              "\n",
              "          name_x profile_path         name_y  \n",
              "0  Daisy Asquith         None  Daisy Asquith  "
            ]
          },
          "execution_count": 75,
          "metadata": {},
          "output_type": "execute_result"
        }
      ],
      "source": [
        "dfdirectores"
      ]
    },
    {
      "cell_type": "code",
      "execution_count": 76,
      "metadata": {},
      "outputs": [],
      "source": [
        "pd.options.display.max_columns = 100"
      ]
    },
    {
      "cell_type": "code",
      "execution_count": null,
      "metadata": {},
      "outputs": [],
      "source": []
    }
  ],
  "metadata": {
    "colab": {
      "provenance": []
    },
    "kernelspec": {
      "display_name": "Python 3",
      "name": "python3"
    },
    "language_info": {
      "codemirror_mode": {
        "name": "ipython",
        "version": 3
      },
      "file_extension": ".py",
      "mimetype": "text/x-python",
      "name": "python",
      "nbconvert_exporter": "python",
      "pygments_lexer": "ipython3",
      "version": "3.11.3"
    }
  },
  "nbformat": 4,
  "nbformat_minor": 0
}
